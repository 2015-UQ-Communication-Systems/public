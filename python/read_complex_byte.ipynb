{
 "metadata": {
  "name": "",
  "signature": "sha256:97ebad15da1fe4c73bd82644efff24ab877e48825d8d98c163daa67ac5b0bf9f"
 },
 "nbformat": 3,
 "nbformat_minor": 0,
 "worksheets": [
  {
   "cells": [
    {
     "cell_type": "code",
     "collapsed": false,
     "input": [
      "import struct\n",
      "import numpy as np\n",
      "\n",
      "def read_complex_byte(filename, M):\n",
      "    row_fmt = '={}B'.format('')  # \"=\" prefix means integers in native byte-order\n",
      "    row_len = struct.calcsize(row_fmt)\n",
      "    result = np.array((0,0))\n",
      "    with open(filename, \"rb\" ) as input:\n",
      "        for col in range(M):\n",
      "            reals = struct.unpack(row_fmt, input.read(row_len))\n",
      "            imags = struct.unpack(row_fmt, input.read(row_len))\n",
      "            cmplx = [complex(r-128,i-128)/128 for r,i in zip(reals, imags)]\n",
      "            result = np.append(result, (cmplx))\n",
      "    return result"
     ],
     "language": "python",
     "metadata": {},
     "outputs": [],
     "prompt_number": 1
    },
    {
     "cell_type": "markdown",
     "metadata": {},
     "source": [
      "# Reading in data from rtl_sdr\n",
      "\n",
      "In python, the above function `read_complex_byte` allows you to read in a number of bytes from a dump file.\n",
      "\n",
      "The syntax is:\n",
      "\n",
      "    read_complex_byte(FILENAME, NUMBYTES) \n",
      "\n",
      "where filename might be `dump.bin` and M might be 1e6 (1 million) - the number of samples to read."
     ]
    },
    {
     "cell_type": "code",
     "collapsed": false,
     "input": [],
     "language": "python",
     "metadata": {},
     "outputs": []
    }
   ],
   "metadata": {}
  }
 ]
}