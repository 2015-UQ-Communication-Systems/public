{
 "metadata": {
  "name": "",
  "signature": "sha256:217bb210cd17b5736df5276ce5a76f0b8f1d3a5b17fa4ac03fedeb51c4821e48"
 },
 "nbformat": 3,
 "nbformat_minor": 0,
 "worksheets": [
  {
   "cells": [
    {
     "cell_type": "markdown",
     "metadata": {},
     "source": [
      "# Reading in data from rtl_sdr\n",
      "\n",
      "In python, two versions of the function `read_complex_byte` are shown below.\n",
      "\n",
      "They both allow you to read in a number of bytes from a dump file.\n",
      "\n",
      "The syntax is:\n",
      "\n",
      "    read_complex_byte(FILENAME, NUMBYTES)\n",
      "    read_complex_bytev2(FILENAME)\n",
      "    \n",
      "where filename might be `dump.bin` and M might be 1e6 (1 million) - the number of samples to read.\n",
      "\n",
      "In the second version of the function, the NUMBYTES can be ommitted, and then it will default to reading the whole file."
     ]
    },
    {
     "cell_type": "code",
     "collapsed": false,
     "input": [
      "import struct\n",
      "import numpy as np\n",
      "\n",
      "def read_complex_byte(filename, M):\n",
      "    row_fmt = '={}B'.format('')  # \"=\" prefix means integers in native byte-order\n",
      "    row_len = struct.calcsize(row_fmt)\n",
      "    result = np.array((0,0))\n",
      "    with open(filename, \"rb\" ) as input:\n",
      "        for col in range(M):\n",
      "            reals = struct.unpack(row_fmt, input.read(row_len))\n",
      "            imags = struct.unpack(row_fmt, input.read(row_len))\n",
      "            cmplx = [complex(r-128,i-128)/128 for r,i in zip(reals, imags)]\n",
      "            result = np.append(result, (cmplx))\n",
      "    return result\n"
     ],
     "language": "python",
     "metadata": {},
     "outputs": [],
     "prompt_number": 1
    },
    {
     "cell_type": "code",
     "collapsed": false,
     "input": [
      "def read_complex_bytev2(filename, M):\n",
      "    data = np.fromfile(filename, dtype=np.dtype('B'), count=M)\n",
      "    normdata=(np.array(data, dtype=float)-127)/128\n",
      "    normdata.dtype=np.complex\n",
      "    return normdata"
     ],
     "language": "python",
     "metadata": {},
     "outputs": [],
     "prompt_number": 2
    }
   ],
   "metadata": {}
  }
 ]
}