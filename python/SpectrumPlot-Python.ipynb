{
 "cells": [
  {
   "cell_type": "code",
   "execution_count": 2,
   "metadata": {
    "collapsed": false,
    "run_control": {
     "read_only": false
    }
   },
   "outputs": [],
   "source": [
    "# prepare jupyter for plots\n",
    "%matplotlib inline\n",
    "# import scientific computing modules\n",
    "import numpy as np\n",
    "import scipy.signal as signal\n",
    "import matplotlib.pyplot as plt"
   ]
  },
  {
   "cell_type": "code",
   "execution_count": 3,
   "metadata": {
    "collapsed": true
   },
   "outputs": [],
   "source": [
    "# let's create a signal + noise\n",
    "A = 2\n",
    "freq = 100\n",
    "noisepow = 0.01\n",
    "fs = 1e3\n",
    "time = np.arange(1e5)/fs\n",
    "rx = A*np.sin(2*np.pi*freq*time)\n",
    "rx += np.random.normal(scale=np.sqrt(noisepow), size=time.shape)"
   ]
  },
  {
   "cell_type": "code",
   "execution_count": 4,
   "metadata": {
    "collapsed": true
   },
   "outputs": [],
   "source": [
    "f,spectrum = signal.welch(rx, fs, scaling='spectrum')"
   ]
  },
  {
   "cell_type": "code",
   "execution_count": 5,
   "metadata": {
    "collapsed": false
   },
   "outputs": [
    {
     "data": {
      "image/png": "[encoded data removed]",
      "text/plain": [
       "<matplotlib.figure.Figure at 0x7ffffa0d5978>"
      ]
     },
     "metadata": {},
     "output_type": "display_data"
    }
   ],
   "source": [
    "plt.semilogy(f, spectrum)\n",
    "plt.xlabel('Frequency (Hz)')\n",
    "plt.ylabel('PSD')\n",
    "plt.grid()\n",
    "plt.show()"
   ]
  },
  {
   "cell_type": "code",
   "execution_count": null,
   "metadata": {
    "collapsed": true
   },
   "outputs": [],
   "source": [
    "# how to show the two sided spectrum? have a complex input\n",
    "A = 2\n",
    "freq = 100\n",
    "noisepow = 0.01\n",
    "fs = 1e3\n",
    "time = np.arange(1e5)/fs\n",
    "rx = A*np.exp(j*2*np.pi*freq*time)\n",
    "rx += np.random.normal(scale=np.sqrt(noisepow), size=time.shape)"
   ]
  }
 ],
 "metadata": {
  "kernelspec": {
   "display_name": "Python 3",
   "language": "python",
   "name": "python3"
  },
  "language_info": {
   "codemirror_mode": {
    "name": "ipython",
    "version": 3
   },
   "file_extension": ".py",
   "mimetype": "text/x-python",
   "name": "python",
   "nbconvert_exporter": "python",
   "pygments_lexer": "ipython3",
   "version": "3.4.0"
  }
 },
 "nbformat": 4,
 "nbformat_minor": 0
}
