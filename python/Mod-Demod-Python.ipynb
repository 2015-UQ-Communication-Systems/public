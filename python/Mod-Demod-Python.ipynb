{
 "cells": [
  {
   "cell_type": "markdown",
   "metadata": {},
   "source": [
    "# Modulators and Demodulators for Python\n",
    "\n",
    "To allow you to test your code using pure Python code (without using Gnuradio) here are a set of functions that you should put into a new package.\n",
    "\n",
    "They are\n",
    "\n",
    "* pskmod\n",
    "* pskdemod\n",
    "* qammod\n",
    "* qamdemod\n",
    "\n",
    "They work similarly to Matlab functions of the same name."
   ]
  },
  {
   "cell_type": "code",
   "execution_count": 1,
   "metadata": {
    "collapsed": true,
    "run_control": {
     "read_only": false
    }
   },
   "outputs": [],
   "source": [
    "import numpy as np\n",
    "\n",
    "# Helper function\n",
    "def ismember(A, B):\n",
    "    return [ np.sum(a == B) for a in A ]"
   ]
  },
  {
   "cell_type": "code",
   "execution_count": 2,
   "metadata": {
    "collapsed": true,
    "run_control": {
     "read_only": false
    }
   },
   "outputs": [],
   "source": [
    "def pskmod(x, M, phi=0, ctype=\"gray\"):\n",
    "    m = np.array(range(M))\n",
    "   \n",
    "    if sum(ismember(np.array(ismember(x, m)) == 0, True)) > 0:\n",
    "        print(\"pskmod: all elements of X must be integers in the range [0,%d-1]\" % M)\n",
    "       \n",
    "    constellation = np.exp(1j*2*np.pi*m/M+1j*phi)\n",
    "   \n",
    "    if (ctype.lower() == \"bin\"): # non-graycoding\n",
    "        y = [constellation[xx] for xx in x]\n",
    "    elif (ctype.lower() == \"gray\"): # graycoding\n",
    "        (m ^ np.right_shift(m, 1))\n",
    "        b = (m ^ np.right_shift(m, 1)).argsort()\n",
    "        y = [constellation[xx] for xx in b[x]]\n",
    "   \n",
    "    return y"
   ]
  },
  {
   "cell_type": "code",
   "execution_count": 3,
   "metadata": {
    "collapsed": false,
    "run_control": {
     "read_only": false
    }
   },
   "outputs": [],
   "source": [
    "def pskdemod(x, M, phi=0, ctype=\"gray\"):\n",
    "    m = np.array(range(M))\n",
    "    \n",
    "    idx = np.mod(np.round((np.angle(x) - phi) * M/2/np.pi), M) + 1\n",
    "    \n",
    "    if (ctype.lower() == \"bin\"):\n",
    "        y = idx-1\n",
    "    elif (ctype.lower() == \"gray\"):\n",
    "        constmap = m ^ np.right_shift(m, 1)\n",
    "        y = [constmap[int(xx)] for xx in idx-1]\n",
    "        \n",
    "    return y"
   ]
  },
  {
   "cell_type": "code",
   "execution_count": 4,
   "metadata": {
    "collapsed": false,
    "run_control": {
     "read_only": false
    }
   },
   "outputs": [],
   "source": [
    "def qammod(x, M):\n",
    "    m = np.array(range(M))\n",
    "   \n",
    "    if sum(ismember(np.array(ismember(x, m)) == 0, True)) > 0:\n",
    "        print(\"qammod: all elements of X must be integers in the range [0,%d-1]\" % M)\n",
    "        return\n",
    "    \n",
    "    c = np.sqrt(M)\n",
    "    if (not (c == int(c) and np.log2(c) == int(np.log2(c)))):\n",
    "        print(\"qammod: M must be square and a power of 2\")\n",
    "        return\n",
    "    \n",
    "    b = -2 * np.mod (x, (c)) + c - 1\n",
    "    a = 2 * np.floor (x / (c)) - c + 1\n",
    "    y = a + 1j*b\n",
    "    return (y)"
   ]
  },
  {
   "cell_type": "code",
   "execution_count": 5,
   "metadata": {
    "collapsed": true,
    "run_control": {
     "read_only": false
    }
   },
   "outputs": [],
   "source": [
    "def qamdemod(y, M):\n",
    "    c = np.sqrt(M)\n",
    "    if (not (c == int(c) and np.log2(c) == int(np.log2(c)))):\n",
    "        print(\"qamdemod: M must be square and a power of 2\")\n",
    "        return\n",
    "    \n",
    "    x = qammod(range(M), M)\n",
    "    z = np.zeros(np.size(y))\n",
    "    for k in range(np.size(y)):\n",
    "        z[k] = np.argmin(abs(  y[k] - x ))\n",
    "    \n",
    "    return z"
   ]
  },
  {
   "cell_type": "markdown",
   "metadata": {},
   "source": [
    "Now to test that these functions work below are some simple modulate and demodulate statements:"
   ]
  },
  {
   "cell_type": "code",
   "execution_count": 6,
   "metadata": {
    "collapsed": false,
    "run_control": {
     "read_only": false
    }
   },
   "outputs": [
    {
     "data": {
      "text/plain": [
       "array([ 0.,  8.,  2.,  3.])"
      ]
     },
     "execution_count": 6,
     "metadata": {},
     "output_type": "execute_result"
    }
   ],
   "source": [
    "tx = qammod([0,8,2,3], 16)\n",
    "qamdemod(tx, 16)"
   ]
  },
  {
   "cell_type": "code",
   "execution_count": 7,
   "metadata": {
    "collapsed": false,
    "run_control": {
     "read_only": false
    }
   },
   "outputs": [
    {
     "data": {
      "text/plain": [
       "array([-3.+3.j, -3.+1.j, -3.-1.j, -3.-3.j, -1.+3.j, -1.+1.j, -1.-1.j,\n",
       "       -1.-3.j,  1.+3.j,  1.+1.j,  1.-1.j,  1.-3.j,  3.+3.j,  3.+1.j,\n",
       "        3.-1.j,  3.-3.j])"
      ]
     },
     "execution_count": 7,
     "metadata": {},
     "output_type": "execute_result"
    }
   ],
   "source": [
    "# find all of the symbols in a 16-QAM constellation\n",
    "M = 16\n",
    "x = qammod(range(M), M)\n",
    "x"
   ]
  },
  {
   "cell_type": "code",
   "execution_count": 8,
   "metadata": {
    "collapsed": false
   },
   "outputs": [
    {
     "data": {
      "text/plain": [
       "array([ 0.,  1.,  2.])"
      ]
     },
     "execution_count": 8,
     "metadata": {},
     "output_type": "execute_result"
    }
   ],
   "source": [
    "tx = pskmod([0,1,2], 4, 0, 'bin')\n",
    "pskdemod(tx, 4, 0, 'bin')"
   ]
  }
 ],
 "metadata": {
  "kernelspec": {
   "display_name": "Python 3",
   "language": "python",
   "name": "python3"
  },
  "language_info": {
   "codemirror_mode": {
    "name": "ipython",
    "version": 3
   },
   "file_extension": ".py",
   "mimetype": "text/x-python",
   "name": "python",
   "nbconvert_exporter": "python",
   "pygments_lexer": "ipython3",
   "version": "3.4.0"
  }
 },
 "nbformat": 4,
 "nbformat_minor": 0
}
